{
 "cells": [
  {
   "cell_type": "markdown",
   "metadata": {},
   "source": [
    "# The Battle of Neighborhoods - Data description\n",
    "\n",
    "\n",
    "## Data needs\n",
    "\n",
    "The following data will be needed:\n",
    "- list of neighborhoods in Toronto\n",
    "- latitude and longtitude coordinates of these neigborhoods\n",
    "- restaurant data for Japanese restaurants in these neighborhoods\n",
    "\n",
    "## Data sources\n",
    "\n",
    "The necessary data will be sourced as follows:\n",
    "\n",
    "The list of neighborhoods in Toronto will be scrapped from this Wikipedia page:  https://en.wikipedia.org/wiki/List_of_postal_codes_of_Canada:_M\n",
    "\n",
    "The geographical coordinates will be imported with the Python Geocoder package. \n",
    "\n",
    "**Foursqaure API** will be used to gather the venue data for the defined neigborhoods. For each neighborhoods, all the information for the venues in the **Neighborhood** will be saved, if the **Venue Category** is Japanese. \n",
    "\n"
   ]
  },
  {
   "cell_type": "code",
   "execution_count": null,
   "metadata": {},
   "outputs": [],
   "source": []
  }
 ],
 "metadata": {
  "kernelspec": {
   "display_name": "Python 3",
   "language": "python",
   "name": "python3"
  },
  "language_info": {
   "codemirror_mode": {
    "name": "ipython",
    "version": 3
   },
   "file_extension": ".py",
   "mimetype": "text/x-python",
   "name": "python",
   "nbconvert_exporter": "python",
   "pygments_lexer": "ipython3",
   "version": "3.8.3"
  }
 },
 "nbformat": 4,
 "nbformat_minor": 4
}

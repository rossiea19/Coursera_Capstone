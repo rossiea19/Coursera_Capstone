{
 "cells": [
  {
   "cell_type": "markdown",
   "metadata": {},
   "source": [
    "# The Battle of Neighborhoods - Business proposal / Introduction\n",
    "\n",
    "\n",
    "## Problem description\n",
    "Toronto has a large amount of Japanese inhabitants, and the numbers keep increasing yearly. Toronto also welcomes many Japanese tourists each year. Because of these factors (and many more), interest in the Japanese culture among Torontonians are increasing. Toronto now even hosts the yearly Toronto Japanese film festival.\n",
    "\n",
    "The traditional Canadian diet is considered unhealthy. As more Canadians are becoming health conscious, more people are turning to a healthier alternative in Japanese food. \n",
    "\n",
    "With this in mind, a Toronto inhabitant of Japanese descent, a Japanese tourist, or a famished health conscious patron interested in the Japanese culture would all be asking \"Where do I find the best Japanese food in Toronto?\". "
   ]
  },
  {
   "cell_type": "code",
   "execution_count": null,
   "metadata": {},
   "outputs": [],
   "source": []
  }
 ],
 "metadata": {
  "kernelspec": {
   "display_name": "Python 3",
   "language": "python",
   "name": "python3"
  },
  "language_info": {
   "codemirror_mode": {
    "name": "ipython",
    "version": 3
   },
   "file_extension": ".py",
   "mimetype": "text/x-python",
   "name": "python",
   "nbconvert_exporter": "python",
   "pygments_lexer": "ipython3",
   "version": "3.8.3"
  }
 },
 "nbformat": 4,
 "nbformat_minor": 4
}
